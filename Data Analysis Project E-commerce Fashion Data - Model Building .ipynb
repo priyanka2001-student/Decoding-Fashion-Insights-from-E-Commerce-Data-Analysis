{
 "cells": [
  {
   "cell_type": "markdown",
   "id": "1912c857",
   "metadata": {},
   "source": [
    "# Data Analysis Project on E-commerce Fashion Data"
   ]
  },
  {
   "cell_type": "code",
   "execution_count": 1,
   "id": "0b99fa75",
   "metadata": {},
   "outputs": [],
   "source": [
    "import numpy as np\n",
    "import pandas as pd\n",
    "import seaborn as sns\n",
    "import matplotlib.pyplot as plt\n",
    "from sklearn.svm import SVC\n",
    "from sklearn.naive_bayes import GaussianNB\n",
    "from sklearn.ensemble import VotingClassifier\n",
    "from sklearn.preprocessing import LabelEncoder, MinMaxScaler\n",
    "from sklearn.tree import DecisionTreeClassifier\n",
    "from sklearn.neighbors import KNeighborsClassifier\n",
    "from sklearn.ensemble import RandomForestClassifier, GradientBoostingClassifier\n",
    "from sklearn.model_selection import cross_val_score, train_test_split\n",
    "from sklearn.metrics import (accuracy_score, classification_report, confusion_matrix,\n",
    "                             precision_score, recall_score, f1_score)\n",
    "import joblib\n",
    "from sklearn.neural_network import MLPClassifier\n",
    "\n",
    "import warnings\n",
    "warnings.filterwarnings('ignore', category=FutureWarning)\n"
   ]
  },
  {
   "cell_type": "code",
   "execution_count": 2,
   "id": "78a863c7",
   "metadata": {},
   "outputs": [],
   "source": [
    "# Load your dataset\n",
    "dataset = pd.read_excel('D:\\\\DATA ANALYTICS PROJECT\\\\FASHION_DATA.xlsx')"
   ]
  },
  {
   "cell_type": "code",
   "execution_count": 3,
   "id": "823bb60f",
   "metadata": {},
   "outputs": [
    {
     "name": "stdout",
     "output_type": "stream",
     "text": [
      "   ID Consumer ID  Gender Age Group  Income ($) Occupation  Preferred Style  \\\n",
      "0   1        C001  Female     18-24       30000    Student           Casual   \n",
      "1   2        C002    Male     25-34       60000   Engineer     Smart Casual   \n",
      "2   3        C003  Female     35-44       45000    Teacher  Business Casual   \n",
      "3   4        C004    Male     18-24       25000    Student           Casual   \n",
      "4   5        C005  Female     25-34       70000  Marketing           Trendy   \n",
      "\n",
      "  Favorite Brand  Purchase Frequency (per month)  Avg Spend per Purchase ($)  \\\n",
      "0           Nike                               3                          50   \n",
      "1           Zara                               2                          70   \n",
      "2            H&M                               1                         100   \n",
      "3         Adidas                               4                          40   \n",
      "4          Gucci                               1                         150   \n",
      "\n",
      "   ... Color Preference Online Shopping Frequency Return Rate (%)  \\\n",
      "0  ...             Blue                    Weekly               5   \n",
      "1  ...            Black                   Monthly              10   \n",
      "2  ...              Red              Occasionally              15   \n",
      "3  ...            Green                    Weekly               5   \n",
      "4  ...             Pink                   Monthly              20   \n",
      "\n",
      "  Satisfaction Rating (1-5)  Influencer Follow (Yes/No)  \\\n",
      "0                       4.5                         Yes   \n",
      "1                       4.2                          No   \n",
      "2                       4.8                         Yes   \n",
      "3                       4.3                         Yes   \n",
      "4                       4.6                          No   \n",
      "\n",
      "   Discounts Effectiveness (1-5) Sustainable Preference (Yes/No)  \\\n",
      "0                              5                             Yes   \n",
      "1                              4                              No   \n",
      "2                              3                             Yes   \n",
      "3                              5                              No   \n",
      "4                              2                             Yes   \n",
      "\n",
      "   Last Purchase Category Last Purchase Date Review Written (Yes/No)  \n",
      "0                Sneakers         2024-09-15                     Yes  \n",
      "1                 T-Shirt         2024-08-20                      No  \n",
      "2                  Blouse         2024-07-30                     Yes  \n",
      "3                  Shorts         2024-09-10                     Yes  \n",
      "4                 Handbag         2024-08-05                      No  \n",
      "\n",
      "[5 rows x 22 columns]\n"
     ]
    }
   ],
   "source": [
    "# Display the first few records of the dataset\n",
    "print(dataset.head())"
   ]
  },
  {
   "cell_type": "code",
   "execution_count": 4,
   "id": "2da03986",
   "metadata": {},
   "outputs": [],
   "source": [
    "# Drop 'ID' , 'Last Purchase Date'and 'Consumer ID' columns from the DataFrame bcoz its unnecessary columns\n",
    "dataset = dataset.drop(['ID', 'Consumer ID','Last Purchase Date' ], axis=1)\n",
    "\n"
   ]
  },
  {
   "cell_type": "code",
   "execution_count": 5,
   "id": "787245f5",
   "metadata": {},
   "outputs": [
    {
     "name": "stdout",
     "output_type": "stream",
     "text": [
      "   Gender Age Group  Income ($) Occupation  Preferred Style Favorite Brand  \\\n",
      "0  Female     18-24       30000    Student           Casual           Nike   \n",
      "1    Male     25-34       60000   Engineer     Smart Casual           Zara   \n",
      "2  Female     35-44       45000    Teacher  Business Casual            H&M   \n",
      "3    Male     18-24       25000    Student           Casual         Adidas   \n",
      "4  Female     25-34       70000  Marketing           Trendy          Gucci   \n",
      "\n",
      "   Purchase Frequency (per month)  Avg Spend per Purchase ($)  \\\n",
      "0                               3                          50   \n",
      "1                               2                          70   \n",
      "2                               1                         100   \n",
      "3                               4                          40   \n",
      "4                               1                         150   \n",
      "\n",
      "  Preferred Material Size Color Preference Online Shopping Frequency  \\\n",
      "0             Cotton    M             Blue                    Weekly   \n",
      "1          Polyester    L            Black                   Monthly   \n",
      "2               Wool    S              Red              Occasionally   \n",
      "3              Denim    M            Green                    Weekly   \n",
      "4            Leather    L             Pink                   Monthly   \n",
      "\n",
      "   Return Rate (%)  Satisfaction Rating (1-5) Influencer Follow (Yes/No)  \\\n",
      "0                5                        4.5                        Yes   \n",
      "1               10                        4.2                         No   \n",
      "2               15                        4.8                        Yes   \n",
      "3                5                        4.3                        Yes   \n",
      "4               20                        4.6                         No   \n",
      "\n",
      "   Discounts Effectiveness (1-5) Sustainable Preference (Yes/No)  \\\n",
      "0                              5                             Yes   \n",
      "1                              4                              No   \n",
      "2                              3                             Yes   \n",
      "3                              5                              No   \n",
      "4                              2                             Yes   \n",
      "\n",
      "  Last Purchase Category Review Written (Yes/No)  \n",
      "0               Sneakers                     Yes  \n",
      "1                T-Shirt                      No  \n",
      "2                 Blouse                     Yes  \n",
      "3                 Shorts                     Yes  \n",
      "4                Handbag                      No  \n"
     ]
    }
   ],
   "source": [
    "# Display the first few rows of the updated DataFrame\n",
    "print(dataset.head())\n"
   ]
  },
  {
   "cell_type": "code",
   "execution_count": 6,
   "id": "bbda245e",
   "metadata": {},
   "outputs": [],
   "source": [
    "# Define features (X) and target variable (y)\n",
    "x = dataset.drop([ 'Preferred Style'], axis=1)  # Exclude non-feature columns\n",
    "y = dataset['Preferred Style']  # Set your target variable\n"
   ]
  },
  {
   "cell_type": "code",
   "execution_count": 7,
   "id": "2b0f397a",
   "metadata": {},
   "outputs": [],
   "source": [
    "# Initialize LabelEncoder and MinMaxScaler\n",
    "le = LabelEncoder()\n",
    "scaler = MinMaxScaler()\n",
    "\n"
   ]
  },
  {
   "cell_type": "code",
   "execution_count": 8,
   "id": "219e1215",
   "metadata": {},
   "outputs": [],
   "source": [
    "# Fit the LabelEncoder on the entire column from the training data\n",
    "for column in x.select_dtypes(include=['object']).columns:\n",
    "    x[column] = le.fit_transform(x[column])  # Fit and transform on training data\n",
    "\n"
   ]
  },
  {
   "cell_type": "code",
   "execution_count": 9,
   "id": "e9148502",
   "metadata": {},
   "outputs": [],
   "source": [
    "# Encode target variable\n",
    "y = le.fit_transform(y)\n"
   ]
  },
  {
   "cell_type": "code",
   "execution_count": 10,
   "id": "1f0af7ef",
   "metadata": {},
   "outputs": [],
   "source": [
    "# Scale features\n",
    "x_scaled = scaler.fit_transform(x)\n"
   ]
  },
  {
   "cell_type": "code",
   "execution_count": 11,
   "id": "76d0455b",
   "metadata": {},
   "outputs": [
    {
     "name": "stdout",
     "output_type": "stream",
     "text": [
      "(800, 18) (200, 18) (800,) (200,)\n"
     ]
    }
   ],
   "source": [
    "# Split the dataset\n",
    "x_train, x_test, y_train, y_test = train_test_split(x_scaled, y, test_size=0.2, random_state=2)\n",
    "print(x_train.shape, x_test.shape, y_train.shape, y_test.shape)\n"
   ]
  },
  {
   "cell_type": "code",
   "execution_count": 12,
   "id": "07767ff3",
   "metadata": {},
   "outputs": [],
   "source": [
    "# Define the models\n",
    "models = {\n",
    "    'Decision Tree': DecisionTreeClassifier(criterion='entropy', max_depth=10),\n",
    "    'Random Forest': RandomForestClassifier(n_estimators=4, random_state=2, max_depth=10),\n",
    "    'Naive Bayes': GaussianNB(),\n",
    "    'KNN': KNeighborsClassifier(n_neighbors=3),\n",
    "    'SVM': SVC(kernel='poly', degree=3, C=1, probability=True),\n",
    "    'MLP': MLPClassifier(hidden_layer_sizes=(64, 32), max_iter=1000, random_state=42),\n",
    "    'Gradient Boosting': GradientBoostingClassifier(learning_rate=0.1, n_estimators=20, max_depth=3)\n",
    "}\n",
    "\n"
   ]
  },
  {
   "cell_type": "code",
   "execution_count": 13,
   "id": "1a0ee9a3",
   "metadata": {},
   "outputs": [],
   "source": [
    "# Voting Classifier\n",
    "voting_estimators = [\n",
    "    ('NB', GaussianNB()),\n",
    "    ('SVM', SVC(kernel='poly', degree=3, C=1, probability=True)),\n",
    "    ('MLP', MLPClassifier(hidden_layer_sizes=(64, 32), max_iter=1000, random_state=42))\n",
    "]\n",
    "\n",
    "models['Voting Classifier - Hard'] = VotingClassifier(estimators=voting_estimators, voting='hard')\n",
    "models['Voting Classifier - Soft'] = VotingClassifier(estimators=voting_estimators, voting='soft')\n"
   ]
  },
  {
   "cell_type": "code",
   "execution_count": 14,
   "id": "9039f131",
   "metadata": {},
   "outputs": [
    {
     "name": "stdout",
     "output_type": "stream",
     "text": [
      "Decision Tree: 0.93875 ± 0.024811791551599\n",
      "Random Forest: 0.9525 ± 0.021866069605669884\n",
      "Naive Bayes: 0.8787499999999999 ± 0.022912878474779186\n",
      "KNN: 0.9475000000000001 ± 0.014577379737113247\n",
      "SVM: 0.94375 ± 0.02931509849889646\n",
      "MLP: 0.9512500000000002 ± 0.026040833319999568\n",
      "Gradient Boosting: 0.9512500000000002 ± 0.013919410907075049\n",
      "Voting Classifier - Hard: 0.9487500000000001 ± 0.025124689052802223\n",
      "Voting Classifier - Soft: 0.9487500000000001 ± 0.015512092057488599\n"
     ]
    }
   ],
   "source": [
    "# Cross-validation\n",
    "results = {}\n",
    "for model_name, model in models.items():\n",
    "    scores = cross_val_score(model, x_train, y_train, cv=5, scoring='accuracy')\n",
    "    results[model_name] = scores.mean()\n",
    "    print(f\"{model_name}: {scores.mean()} ± {scores.std()}\")\n"
   ]
  },
  {
   "cell_type": "code",
   "execution_count": 15,
   "id": "a908b518",
   "metadata": {},
   "outputs": [
    {
     "name": "stdout",
     "output_type": "stream",
     "text": [
      "\n",
      "Best Model: Random Forest\n"
     ]
    }
   ],
   "source": [
    "# Find the best model\n",
    "best_model_name = max(results, key=results.get)\n",
    "best_model = models[best_model_name]\n",
    "print(f\"\\nBest Model: {best_model_name}\")\n"
   ]
  },
  {
   "cell_type": "code",
   "execution_count": 16,
   "id": "432b2c0e",
   "metadata": {},
   "outputs": [],
   "source": [
    "# Fit the best model\n",
    "best_model.fit(x_train, y_train)\n",
    "y_pred = best_model.predict(x_test)\n"
   ]
  },
  {
   "cell_type": "code",
   "execution_count": 17,
   "id": "8656110d",
   "metadata": {},
   "outputs": [
    {
     "name": "stdout",
     "output_type": "stream",
     "text": [
      "\n",
      "Model Evaluation Metrics:\n",
      "Accuracy: 0.95\n",
      "Precision: 0.9538186900189137\n",
      "Recall: 0.95\n",
      "F1 Score: 0.9502655143393319\n",
      "Error Percentage: 0.050000000000000044\n"
     ]
    }
   ],
   "source": [
    "# Model evaluation metrics\n",
    "accuracy = accuracy_score(y_test, y_pred)\n",
    "precision = precision_score(y_test, y_pred, average='weighted')\n",
    "recall = recall_score(y_test, y_pred, average='weighted')\n",
    "f1 = f1_score(y_test, y_pred, average='weighted')\n",
    "error_percentage = 1 - accuracy\n",
    "\n",
    "print(\"\\nModel Evaluation Metrics:\")\n",
    "print(f\"Accuracy: {accuracy}\")\n",
    "print(f\"Precision: {precision}\")\n",
    "print(f\"Recall: {recall}\")\n",
    "print(f\"F1 Score: {f1}\")\n",
    "print(f\"Error Percentage: {error_percentage}\")\n",
    "\n",
    "target_names = le.inverse_transform(np.unique(y))\n"
   ]
  },
  {
   "cell_type": "code",
   "execution_count": 18,
   "id": "901dd466",
   "metadata": {},
   "outputs": [
    {
     "data": {
      "image/png": "[encoded data removed]",
      "text/plain": [
       "<Figure size 1000x700 with 2 Axes>"
      ]
     },
     "metadata": {},
     "output_type": "display_data"
    }
   ],
   "source": [
    "# Confusion Matrix\n",
    "cm = confusion_matrix(y_test, y_pred)\n",
    "plt.figure(figsize=(10, 7))\n",
    "sns.heatmap(cm, annot=True, fmt='d', xticklabels=target_names, yticklabels=target_names)\n",
    "plt.xlabel('Predicted')\n",
    "plt.ylabel('True')\n",
    "plt.title(f'Confusion Matrix for {best_model_name}')\n",
    "plt.show()\n"
   ]
  },
  {
   "cell_type": "code",
   "execution_count": 19,
   "id": "b8e7c226",
   "metadata": {},
   "outputs": [
    {
     "name": "stdout",
     "output_type": "stream",
     "text": [
      "\n",
      "Classification Report:\n",
      "                 precision    recall  f1-score   support\n",
      "\n",
      "Business Casual       0.98      0.96      0.97        50\n",
      "         Casual       0.98      0.97      0.98        65\n",
      "         Formal       0.84      1.00      0.91        16\n",
      "   Smart Casual       0.89      0.95      0.92        43\n",
      "         Trendy       1.00      0.85      0.92        26\n",
      "\n",
      "       accuracy                           0.95       200\n",
      "      macro avg       0.94      0.95      0.94       200\n",
      "   weighted avg       0.95      0.95      0.95       200\n",
      "\n"
     ]
    }
   ],
   "source": [
    "# Classification Report\n",
    "print(\"\\nClassification Report:\")\n",
    "print(classification_report(y_test, y_pred, target_names=target_names))\n"
   ]
  },
  {
   "cell_type": "code",
   "execution_count": 20,
   "id": "d7eb324a",
   "metadata": {},
   "outputs": [
    {
     "data": {
      "text/plain": [
       "['label_encoder.pkl']"
      ]
     },
     "execution_count": 20,
     "metadata": {},
     "output_type": "execute_result"
    }
   ],
   "source": [
    "# Save the best model\n",
    "joblib.dump(best_model, 'best_model.pkl')\n",
    "joblib.dump(scaler, 'scaler.pkl')  # Save the scaler\n",
    "joblib.dump(le, 'label_encoder.pkl')  # Save the label encoder"
   ]
  },
  {
   "cell_type": "code",
   "execution_count": null,
   "id": "460906c2",
   "metadata": {},
   "outputs": [],
   "source": []
  },
  {
   "cell_type": "code",
   "execution_count": null,
   "id": "6f4e0936",
   "metadata": {},
   "outputs": [],
   "source": []
  }
 ],
 "metadata": {
  "kernelspec": {
   "display_name": "Python 3 (ipykernel)",
   "language": "python",
   "name": "python3"
  },
  "language_info": {
   "codemirror_mode": {
    "name": "ipython",
    "version": 3
   },
   "file_extension": ".py",
   "mimetype": "text/x-python",
   "name": "python",
   "nbconvert_exporter": "python",
   "pygments_lexer": "ipython3",
   "version": "3.10.9"
  }
 },
 "nbformat": 4,
 "nbformat_minor": 5
}
